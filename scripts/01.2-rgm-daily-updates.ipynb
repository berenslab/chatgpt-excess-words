{
 "cells": [
  {
   "cell_type": "code",
   "execution_count": 9,
   "metadata": {},
   "outputs": [],
   "source": [
    "import pandas as pd\n",
    "import numpy as np\n",
    "\n",
    "import time\n",
    "import pickle"
   ]
  },
  {
   "cell_type": "code",
   "execution_count": 10,
   "metadata": {},
   "outputs": [],
   "source": [
    "import black\n",
    "import jupyter_black\n",
    "\n",
    "jupyter_black.load(line_length=79)"
   ]
  },
  {
   "cell_type": "code",
   "execution_count": 11,
   "metadata": {},
   "outputs": [
    {
     "name": "stdout",
     "output_type": "stream",
     "text": [
      "['/gpfs01/berens/user/rgonzalesmarquez', '/.pyenv/versions/miniconda3-latest/lib/python311.zip', '/.pyenv/versions/miniconda3-latest/lib/python3.11', '/.pyenv/versions/miniconda3-latest/lib/python3.11/lib-dynload', '', '/gpfs01/berens/user/rgonzalesmarquez/.local/lib/python3.11/site-packages', '/gpfs01/berens/user/rgonzalesmarquez/phd/text-embeddings', '/gpfs01/berens/user/rgonzalesmarquez/phd/pubmed-landscape', '/.pyenv/versions/miniconda3-latest/lib/python3.11/site-packages', '/gpfs01/berens/user/rgonzalesmarquez/phd/chatgpt-excess-words/scripts/', '/gpfs01/berens/user/rgonzalesmarquez/phd/chatgpt-excess-words/scripts/']\n"
     ]
    }
   ],
   "source": [
    "# FIX VSCODE PATH PROBLEM -- DELETE AFTER\n",
    "import sys\n",
    "\n",
    "# add path\n",
    "sys.path.append(\n",
    "    \"/gpfs01/berens/user/rgonzalesmarquez/phd/chatgpt-excess-words/scripts/\"\n",
    ")\n",
    "print(sys.path)"
   ]
  },
  {
   "cell_type": "code",
   "execution_count": 63,
   "metadata": {},
   "outputs": [
    {
     "name": "stdout",
     "output_type": "stream",
     "text": [
      "The autoreload extension is already loaded. To reload it, use:\n",
      "  %reload_ext autoreload\n"
     ]
    }
   ],
   "source": [
    "%load_ext autoreload\n",
    "%autoreload 2\n",
    "\n",
    "from daily_updates_functions import *"
   ]
  },
  {
   "cell_type": "markdown",
   "metadata": {},
   "source": [
    "We extract from PubMed's metadata `.xml` files the following:\n",
    "- PubMed ID\n",
    "- title\n",
    "- abstract\n",
    "- language\n",
    "- journal title\n",
    "- ISSN\n",
    "- publication date\n",
    "- (first and last) author first names\n",
    "- (first and last) author Affiliations\n"
   ]
  },
  {
   "cell_type": "markdown",
   "metadata": {},
   "source": [
    "# Parse data"
   ]
  },
  {
   "cell_type": "markdown",
   "metadata": {},
   "source": [
    "## 2024 daily updates"
   ]
  },
  {
   "cell_type": "code",
   "execution_count": 16,
   "metadata": {
    "scrolled": true,
    "tags": []
   },
   "outputs": [
    {
     "name": "stdout",
     "output_type": "stream",
     "text": [
      "pubmed24n1220.xml\n",
      "pubmed24n1221.xml\n",
      "pubmed24n1222.xml\n",
      "pubmed24n1223.xml\n",
      "pubmed24n1224.xml\n",
      "pubmed24n1225.xml\n",
      "pubmed24n1226.xml\n",
      "pubmed24n1227.xml\n",
      "pubmed24n1228.xml\n",
      "pubmed24n1229.xml\n",
      "pubmed24n1230.xml\n",
      "pubmed24n1231.xml\n",
      "pubmed24n1232.xml\n",
      "pubmed24n1233.xml\n",
      "pubmed24n1234.xml\n",
      "pubmed24n1235.xml\n",
      "pubmed24n1236.xml\n",
      "pubmed24n1237.xml\n",
      "pubmed24n1238.xml\n",
      "pubmed24n1239.xml\n",
      "pubmed24n1240.xml\n",
      "pubmed24n1241.xml\n",
      "pubmed24n1242.xml\n",
      "pubmed24n1243.xml\n",
      "pubmed24n1244.xml\n",
      "pubmed24n1245.xml\n",
      "pubmed24n1246.xml\n",
      "pubmed24n1247.xml\n",
      "pubmed24n1248.xml\n",
      "pubmed24n1249.xml\n",
      "pubmed24n1250.xml\n",
      "pubmed24n1251.xml\n",
      "pubmed24n1252.xml\n",
      "pubmed24n1253.xml\n",
      "pubmed24n1254.xml\n",
      "pubmed24n1255.xml\n",
      "pubmed24n1256.xml\n",
      "pubmed24n1257.xml\n",
      "pubmed24n1258.xml\n",
      "pubmed24n1259.xml\n",
      "pubmed24n1260.xml\n",
      "pubmed24n1261.xml\n",
      "pubmed24n1262.xml\n",
      "pubmed24n1263.xml\n",
      "pubmed24n1264.xml\n",
      "pubmed24n1265.xml\n",
      "pubmed24n1266.xml\n",
      "pubmed24n1267.xml\n",
      "pubmed24n1268.xml\n",
      "pubmed24n1269.xml\n",
      "pubmed24n1270.xml\n",
      "pubmed24n1271.xml\n",
      "pubmed24n1272.xml\n",
      "pubmed24n1273.xml\n",
      "pubmed24n1274.xml\n",
      "pubmed24n1275.xml\n",
      "pubmed24n1276.xml\n",
      "pubmed24n1277.xml\n",
      "pubmed24n1278.xml\n",
      "pubmed24n1279.xml\n",
      "pubmed24n1280.xml\n",
      "pubmed24n1281.xml\n",
      "pubmed24n1282.xml\n",
      "pubmed24n1283.xml\n",
      "pubmed24n1284.xml\n",
      "pubmed24n1285.xml\n",
      "pubmed24n1286.xml\n",
      "pubmed24n1287.xml\n",
      "pubmed24n1288.xml\n",
      "pubmed24n1289.xml\n",
      "pubmed24n1290.xml\n",
      "pubmed24n1291.xml\n",
      "pubmed24n1292.xml\n",
      "pubmed24n1293.xml\n",
      "pubmed24n1294.xml\n",
      "pubmed24n1295.xml\n",
      "pubmed24n1296.xml\n",
      "pubmed24n1297.xml\n",
      "pubmed24n1298.xml\n",
      "pubmed24n1299.xml\n",
      "pubmed24n1300.xml\n",
      "pubmed24n1301.xml\n",
      "pubmed24n1302.xml\n",
      "pubmed24n1303.xml\n",
      "pubmed24n1304.xml\n",
      "pubmed24n1305.xml\n",
      "pubmed24n1306.xml\n",
      "pubmed24n1307.xml\n",
      "pubmed24n1308.xml\n",
      "pubmed24n1309.xml\n",
      "pubmed24n1310.xml\n",
      "pubmed24n1311.xml\n",
      "pubmed24n1312.xml\n",
      "pubmed24n1313.xml\n",
      "pubmed24n1314.xml\n",
      "pubmed24n1315.xml\n",
      "pubmed24n1316.xml\n",
      "pubmed24n1317.xml\n",
      "pubmed24n1318.xml\n",
      "pubmed24n1319.xml\n",
      "pubmed24n1320.xml\n",
      "pubmed24n1321.xml\n",
      "pubmed24n1322.xml\n",
      "pubmed24n1323.xml\n",
      "pubmed24n1324.xml\n",
      "pubmed24n1325.xml\n",
      "pubmed24n1326.xml\n",
      "pubmed24n1327.xml\n",
      "pubmed24n1328.xml\n",
      "pubmed24n1329.xml\n",
      "pubmed24n1330.xml\n",
      "pubmed24n1331.xml\n",
      "pubmed24n1332.xml\n",
      "pubmed24n1333.xml\n",
      "pubmed24n1334.xml\n",
      "pubmed24n1335.xml\n",
      "pubmed24n1336.xml\n",
      "pubmed24n1337.xml\n",
      "pubmed24n1338.xml\n",
      "pubmed24n1339.xml\n",
      "pubmed24n1340.xml\n",
      "pubmed24n1341.xml\n",
      "pubmed24n1342.xml\n",
      "pubmed24n1343.xml\n",
      "pubmed24n1344.xml\n",
      "pubmed24n1345.xml\n",
      "pubmed24n1346.xml\n",
      "pubmed24n1347.xml\n",
      "pubmed24n1348.xml\n",
      "pubmed24n1349.xml\n",
      "pubmed24n1350.xml\n",
      "pubmed24n1351.xml\n",
      "pubmed24n1352.xml\n",
      "pubmed24n1353.xml\n",
      "pubmed24n1354.xml\n",
      "pubmed24n1355.xml\n",
      "pubmed24n1356.xml\n",
      "pubmed24n1357.xml\n",
      "pubmed24n1358.xml\n",
      "pubmed24n1359.xml\n",
      "pubmed24n1360.xml\n",
      "pubmed24n1361.xml\n",
      "pubmed24n1362.xml\n",
      "pubmed24n1363.xml\n",
      "pubmed24n1364.xml\n",
      "pubmed24n1365.xml\n",
      "pubmed24n1366.xml\n",
      "pubmed24n1367.xml\n",
      "pubmed24n1368.xml\n",
      "pubmed24n1369.xml\n",
      "pubmed24n1370.xml\n",
      "pubmed24n1371.xml\n",
      "pubmed24n1372.xml\n",
      "pubmed24n1373.xml\n",
      "pubmed24n1374.xml\n",
      "pubmed24n1375.xml\n",
      "pubmed24n1376.xml\n",
      "pubmed24n1377.xml\n",
      "pubmed24n1378.xml\n",
      "pubmed24n1379.xml\n",
      "CPU times: user 1h 4min 38s, sys: 1min 10s, total: 1h 5min 49s\n",
      "Wall time: 1h 5min 54s\n"
     ]
    }
   ],
   "source": [
    "%%time\n",
    "\n",
    "path = \"/gpfs01/berens/data/data/pubmed/2024_daily_updates/\"\n",
    "\n",
    "files_2024_df_daily_updates_v1 = import_all_files(path, order_files=True)\n"
   ]
  },
  {
   "cell_type": "code",
   "execution_count": 17,
   "metadata": {},
   "outputs": [
    {
     "name": "stdout",
     "output_type": "stream",
     "text": [
      "There are 2925353 papers\n"
     ]
    }
   ],
   "source": [
    "print(\"There are {} papers\".format(files_2024_df_daily_updates_v1.shape[0]))"
   ]
  },
  {
   "cell_type": "code",
   "execution_count": 18,
   "metadata": {},
   "outputs": [
    {
     "data": {
      "text/html": [
       "<div>\n",
       "<style scoped>\n",
       "    .dataframe tbody tr th:only-of-type {\n",
       "        vertical-align: middle;\n",
       "    }\n",
       "\n",
       "    .dataframe tbody tr th {\n",
       "        vertical-align: top;\n",
       "    }\n",
       "\n",
       "    .dataframe thead th {\n",
       "        text-align: right;\n",
       "    }\n",
       "</style>\n",
       "<table border=\"1\" class=\"dataframe\">\n",
       "  <thead>\n",
       "    <tr style=\"text-align: right;\">\n",
       "      <th></th>\n",
       "      <th>PMID</th>\n",
       "      <th>Title</th>\n",
       "      <th>AbstractText</th>\n",
       "      <th>Language</th>\n",
       "      <th>Journal</th>\n",
       "      <th>Date</th>\n",
       "      <th>NameFirstAuthor</th>\n",
       "      <th>NameLastAuthor</th>\n",
       "      <th>ISSN</th>\n",
       "      <th>AffiliationFirstAuthor</th>\n",
       "      <th>AffiliationLastAuthor</th>\n",
       "      <th>filename</th>\n",
       "    </tr>\n",
       "  </thead>\n",
       "  <tbody>\n",
       "    <tr>\n",
       "      <th>0</th>\n",
       "      <td>1025</td>\n",
       "      <td>Isolation and purification of cytokinin bindin...</td>\n",
       "      <td></td>\n",
       "      <td>eng</td>\n",
       "      <td>Biochemical and biophysical research communica...</td>\n",
       "      <td>1975 Nov 17</td>\n",
       "      <td>T</td>\n",
       "      <td>K</td>\n",
       "      <td>0006-291X</td>\n",
       "      <td></td>\n",
       "      <td></td>\n",
       "      <td>pubmed24n1220.xml</td>\n",
       "    </tr>\n",
       "    <tr>\n",
       "      <th>1</th>\n",
       "      <td>1250</td>\n",
       "      <td>Purification and properties of isoenzymes of c...</td>\n",
       "      <td>Two isoenzymes of an NADP+ -dependent cinnamyl...</td>\n",
       "      <td>eng</td>\n",
       "      <td>European journal of biochemistry</td>\n",
       "      <td>1975 Nov 01</td>\n",
       "      <td>D</td>\n",
       "      <td>H</td>\n",
       "      <td>0014-2956</td>\n",
       "      <td></td>\n",
       "      <td></td>\n",
       "      <td>pubmed24n1220.xml</td>\n",
       "    </tr>\n",
       "    <tr>\n",
       "      <th>2</th>\n",
       "      <td>433</td>\n",
       "      <td>Uptake, translocation, and metabolism of tirpa...</td>\n",
       "      <td></td>\n",
       "      <td>eng</td>\n",
       "      <td>Journal of agricultural and food chemistry</td>\n",
       "      <td>1975 Nov-Dec</td>\n",
       "      <td>J E</td>\n",
       "      <td>R I</td>\n",
       "      <td>0021-8561</td>\n",
       "      <td></td>\n",
       "      <td></td>\n",
       "      <td>pubmed24n1220.xml</td>\n",
       "    </tr>\n",
       "    <tr>\n",
       "      <th>3</th>\n",
       "      <td>1314</td>\n",
       "      <td>The soybean answer to food costs.</td>\n",
       "      <td></td>\n",
       "      <td>eng</td>\n",
       "      <td>Dimensions in health service</td>\n",
       "      <td>1976 Jan</td>\n",
       "      <td>T C</td>\n",
       "      <td>T C</td>\n",
       "      <td>0317-7645</td>\n",
       "      <td></td>\n",
       "      <td></td>\n",
       "      <td>pubmed24n1220.xml</td>\n",
       "    </tr>\n",
       "    <tr>\n",
       "      <th>4</th>\n",
       "      <td>3</td>\n",
       "      <td>Metal substitutions incarbonic anhydrase: a ha...</td>\n",
       "      <td></td>\n",
       "      <td>eng</td>\n",
       "      <td>Biochemical and biophysical research communica...</td>\n",
       "      <td>1975 Oct 27</td>\n",
       "      <td>R J</td>\n",
       "      <td>R G</td>\n",
       "      <td>0006-291X</td>\n",
       "      <td></td>\n",
       "      <td></td>\n",
       "      <td>pubmed24n1220.xml</td>\n",
       "    </tr>\n",
       "  </tbody>\n",
       "</table>\n",
       "</div>"
      ],
      "text/plain": [
       "   PMID                                              Title  \\\n",
       "0  1025  Isolation and purification of cytokinin bindin...   \n",
       "1  1250  Purification and properties of isoenzymes of c...   \n",
       "2   433  Uptake, translocation, and metabolism of tirpa...   \n",
       "3  1314                  The soybean answer to food costs.   \n",
       "4     3  Metal substitutions incarbonic anhydrase: a ha...   \n",
       "\n",
       "                                        AbstractText Language  \\\n",
       "0                                                         eng   \n",
       "1  Two isoenzymes of an NADP+ -dependent cinnamyl...      eng   \n",
       "2                                                         eng   \n",
       "3                                                         eng   \n",
       "4                                                         eng   \n",
       "\n",
       "                                             Journal          Date  \\\n",
       "0  Biochemical and biophysical research communica...   1975 Nov 17   \n",
       "1                   European journal of biochemistry   1975 Nov 01   \n",
       "2         Journal of agricultural and food chemistry  1975 Nov-Dec   \n",
       "3                       Dimensions in health service      1976 Jan   \n",
       "4  Biochemical and biophysical research communica...   1975 Oct 27   \n",
       "\n",
       "  NameFirstAuthor NameLastAuthor       ISSN AffiliationFirstAuthor  \\\n",
       "0               T              K  0006-291X                          \n",
       "1               D              H  0014-2956                          \n",
       "2             J E            R I  0021-8561                          \n",
       "3             T C            T C  0317-7645                          \n",
       "4             R J            R G  0006-291X                          \n",
       "\n",
       "  AffiliationLastAuthor           filename  \n",
       "0                        pubmed24n1220.xml  \n",
       "1                        pubmed24n1220.xml  \n",
       "2                        pubmed24n1220.xml  \n",
       "3                        pubmed24n1220.xml  \n",
       "4                        pubmed24n1220.xml  "
      ]
     },
     "execution_count": 18,
     "metadata": {},
     "output_type": "execute_result"
    }
   ],
   "source": [
    "files_2024_df_daily_updates_v1.head()"
   ]
  },
  {
   "cell_type": "markdown",
   "metadata": {},
   "source": [
    "# Filter\n",
    "\n",
    "Filter out:\n",
    "- non-English papers\n",
    "- papers with empty abstracts\n",
    "- papers with abstracts shorter than 250 or longer than 4000 symbols\n",
    "- papers with unfinished abstracts"
   ]
  },
  {
   "cell_type": "markdown",
   "metadata": {},
   "source": [
    "## Empty abstracts and non-english papers"
   ]
  },
  {
   "cell_type": "code",
   "execution_count": 21,
   "metadata": {},
   "outputs": [
    {
     "name": "stdout",
     "output_type": "stream",
     "text": [
      "Before, there were 2925353 papers\n",
      "After eliminating empty abstracts, there are 2621886 papers\n",
      "After first cleaning, there are 2591305 papers\n",
      "CPU times: user 3.9 s, sys: 288 ms, total: 4.19 s\n",
      "Wall time: 4.14 s\n"
     ]
    }
   ],
   "source": [
    "%%time\n",
    "\n",
    "print(\n",
    "    \"Before, there were {} papers\".format(\n",
    "        files_2024_df_daily_updates_v1.shape[0]\n",
    "    )\n",
    ")\n",
    "\n",
    "# Eliminate empty abstracts\n",
    "clean_2024_df_daily_updates_v1 = files_2024_df_daily_updates_v1[\n",
    "    files_2024_df_daily_updates_v1.AbstractText != \"\"\n",
    "]\n",
    "\n",
    "print(\n",
    "    \"After eliminating empty abstracts, there are {} papers\".format(\n",
    "        clean_2024_df_daily_updates_v1.shape[0]\n",
    "    )\n",
    ")\n",
    "\n",
    "# Eliminate non-english papers\n",
    "clean_2024_df_daily_updates_v1 = clean_2024_df_daily_updates_v1[\n",
    "    clean_2024_df_daily_updates_v1.Language == \"eng\"\n",
    "]\n",
    "\n",
    "# print size\n",
    "print(\n",
    "    \"After first cleaning, there are {} papers\".format(\n",
    "        clean_2024_df_daily_updates_v1.shape[0]\n",
    "    )\n",
    ")"
   ]
  },
  {
   "cell_type": "markdown",
   "metadata": {},
   "source": [
    "## Threshold and cut off"
   ]
  },
  {
   "cell_type": "markdown",
   "metadata": {},
   "source": [
    "### Cut off = 4000"
   ]
  },
  {
   "cell_type": "code",
   "execution_count": 22,
   "metadata": {},
   "outputs": [
    {
     "name": "stdout",
     "output_type": "stream",
     "text": [
      "Before cut off, there are 2591305 papers\n",
      "After cut off, there are 2586634 papers\n"
     ]
    }
   ],
   "source": [
    "print(\n",
    "    \"Before cut off, there are {} papers\".format(\n",
    "        clean_2024_df_daily_updates_v1.shape[0]\n",
    "    )\n",
    ")\n",
    "abstracts = clean_2024_df_daily_updates_v1[\"AbstractText\"].tolist()\n",
    "len_strings = map(len, abstracts)\n",
    "len_abstracts = np.fromiter(len_strings, dtype=np.int64, count=len(abstracts))\n",
    "\n",
    "\n",
    "cut_off = 4000\n",
    "clean_2024_df_daily_updates_v1 = clean_2024_df_daily_updates_v1[\n",
    "    len_abstracts < cut_off\n",
    "]\n",
    "print(\n",
    "    \"After cut off, there are {} papers\".format(\n",
    "        clean_2024_df_daily_updates_v1.shape[0]\n",
    "    )\n",
    ")"
   ]
  },
  {
   "cell_type": "markdown",
   "metadata": {},
   "source": [
    "### Threshold = 250"
   ]
  },
  {
   "cell_type": "code",
   "execution_count": 23,
   "metadata": {},
   "outputs": [
    {
     "name": "stdout",
     "output_type": "stream",
     "text": [
      "After threshold, there are 2567206 papers\n"
     ]
    }
   ],
   "source": [
    "threshold = 250\n",
    "len_short_abstracts = len_abstracts[len_abstracts < cut_off]\n",
    "clean_2024_df_daily_updates_v1 = clean_2024_df_daily_updates_v1[\n",
    "    len_short_abstracts > threshold\n",
    "]\n",
    "print(\n",
    "    \"After threshold, there are {} papers\".format(\n",
    "        clean_2024_df_daily_updates_v1.shape[0]\n",
    "    )\n",
    ")"
   ]
  },
  {
   "cell_type": "markdown",
   "metadata": {
    "tags": []
   },
   "source": [
    "## Remove the truncated sentence from abstracts\n"
   ]
  },
  {
   "cell_type": "code",
   "execution_count": 24,
   "metadata": {},
   "outputs": [],
   "source": [
    "abstracts = clean_2024_df_daily_updates_v1[\"AbstractText\"]\n",
    "abstracts_list = clean_2024_df_daily_updates_v1[\"AbstractText\"].tolist()"
   ]
  },
  {
   "cell_type": "code",
   "execution_count": 25,
   "metadata": {},
   "outputs": [
    {
     "name": "stdout",
     "output_type": "stream",
     "text": [
      "CPU times: user 3.88 s, sys: 130 ms, total: 4.01 s\n",
      "Wall time: 4.01 s\n"
     ]
    }
   ],
   "source": [
    "%%time\n",
    "# BUENO\n",
    "clean_2024_df_daily_updates_v1.AbstractText = list(\n",
    "    map(\n",
    "        lambda x, y: x[: y - 1] if y != -1 else x,\n",
    "        clean_2024_df_daily_updates_v1.AbstractText,\n",
    "        clean_2024_df_daily_updates_v1.AbstractText.str.find(\n",
    "            \"ABSTRACT TRUNCATED AT\"\n",
    "        ),\n",
    "    )\n",
    ")"
   ]
  },
  {
   "cell_type": "markdown",
   "metadata": {},
   "source": [
    "## Remove unfinished abstracts"
   ]
  },
  {
   "cell_type": "code",
   "execution_count": 26,
   "metadata": {},
   "outputs": [
    {
     "name": "stdout",
     "output_type": "stream",
     "text": [
      "2567206\n"
     ]
    }
   ],
   "source": [
    "abstracts = clean_2024_df_daily_updates_v1[\"AbstractText\"]\n",
    "abstracts_list = clean_2024_df_daily_updates_v1[\"AbstractText\"].tolist()\n",
    "print(len(abstracts_list))"
   ]
  },
  {
   "cell_type": "code",
   "execution_count": 27,
   "metadata": {},
   "outputs": [
    {
     "name": "stdout",
     "output_type": "stream",
     "text": [
      "CPU times: user 556 ms, sys: 9.86 ms, total: 565 ms\n",
      "Wall time: 564 ms\n"
     ]
    }
   ],
   "source": [
    "%%time\n",
    "end_abstracts = [x[-2:] for x in abstracts_list]"
   ]
  },
  {
   "cell_type": "code",
   "execution_count": 28,
   "metadata": {},
   "outputs": [
    {
     "name": "stdout",
     "output_type": "stream",
     "text": [
      "CPU times: user 1.25 s, sys: 2.99 ms, total: 1.26 s\n",
      "Wall time: 1.25 s\n"
     ]
    }
   ],
   "source": [
    "%%time\n",
    "point_index = np.array([x.find(\".\") for x in end_abstracts])\n",
    "question_index = np.array([x.find(\"?\") for x in end_abstracts])\n",
    "exclamation_index = np.array([x.find(\"!\") for x in end_abstracts])"
   ]
  },
  {
   "cell_type": "code",
   "execution_count": 29,
   "metadata": {},
   "outputs": [
    {
     "name": "stdout",
     "output_type": "stream",
     "text": [
      "Before cleaning, there are 2567206 papers\n",
      "After cleaning, there are 2566412 papers\n",
      "CPU times: user 980 ms, sys: 52.1 ms, total: 1.03 s\n",
      "Wall time: 1.03 s\n"
     ]
    }
   ],
   "source": [
    "%%time\n",
    "\n",
    "print(\n",
    "    \"Before cleaning, there are {} papers\".format(\n",
    "        clean_2024_df_daily_updates_v1.shape[0]\n",
    "    )\n",
    ")\n",
    "\n",
    "# Eliminate unfinished abstracts\n",
    "clean_2024_df_daily_updates_v1 = clean_2024_df_daily_updates_v1[\n",
    "    (point_index != -1) | (question_index != -1) | (exclamation_index != -1)\n",
    "]\n",
    "\n",
    "# print size\n",
    "print(\n",
    "    \"After cleaning, there are {} papers\".format(\n",
    "        clean_2024_df_daily_updates_v1.shape[0]\n",
    "    )\n",
    ")"
   ]
  },
  {
   "cell_type": "markdown",
   "metadata": {},
   "source": [
    "# Generate labels"
   ]
  },
  {
   "cell_type": "code",
   "execution_count": 33,
   "metadata": {},
   "outputs": [],
   "source": [
    "label_color_legend = {\n",
    "    \"cancer\": \"black\",\n",
    "    \"neuroscience\": \"#aeaa00\",\n",
    "    \"cardiology\": \"#1CE6FF\",\n",
    "    \"ecology\": \"#FF34FF\",\n",
    "    \"bioinformatics\": \"#FF4A46\",\n",
    "    \"chemistry\": \"#008941\",\n",
    "    \"surgery\": \"#006FA6\",\n",
    "    \"environment\": \"#0089A3\",\n",
    "    \"material\": \"#0000A6\",\n",
    "    \"microbiology\": \"#B79762\",\n",
    "    \"pediatric\": \"#004D43\",\n",
    "    \"immunology\": \"#8FB0FF\",\n",
    "    \"psychology\": \"#5A0007\",\n",
    "    \"psychiatry\": \"#BA0900\",\n",
    "    \"genetics\": \"#1B4400\",\n",
    "    \"nutrition\": \"#4FC601\",\n",
    "    \"veterinary\": \"#3B5DFF\",\n",
    "    \"engineering\": \"#00C2A0\",\n",
    "    \"education\": \"#549E79\",\n",
    "    \"physics\": \"#BC23FF\",\n",
    "    \"optics\": \"#C895C5\",\n",
    "    \"nursing\": \"#FF2F80\",\n",
    "    \"neurology\": \"#009271\",\n",
    "    \"radiology\": \"#00FECF\",\n",
    "    \"ophthalmology\": \"#A4E804\",\n",
    "    \"gynecology\": \"#FFB500\",\n",
    "    \"rehabilitation\": \"#6B002C\",\n",
    "    \"pathology\": \"#FF9408\",\n",
    "    \"anesthesiology\": \"#CC0744\",\n",
    "    \"dermatology\": \"#D790FF\",\n",
    "    \"pharmacology\": \"#5B4534\",\n",
    "    \"physiology\": \"#E83000\",\n",
    "    \"virology\": \"#6F0062\",\n",
    "    \"biochemistry\": \"#b65141\",\n",
    "    \"computation\": \"#C20078\",\n",
    "    \"infectious\": \"#7A4900\",\n",
    "    \"healthcare\": \"#FF90C9\",\n",
    "    \"ethics\": \"#6508ba\",\n",
    "    \"dentistry\": \"#8e4d8a\",\n",
    "}"
   ]
  },
  {
   "cell_type": "code",
   "execution_count": 34,
   "metadata": {},
   "outputs": [
    {
     "name": "stdout",
     "output_type": "stream",
     "text": [
      "CPU times: user 2min 39s, sys: 2 s, total: 2min 41s\n",
      "Wall time: 2min 41s\n"
     ]
    }
   ],
   "source": [
    "%%time\n",
    "labels_2024_du, _ = improved_coloring(\n",
    "    clean_2024_df_daily_updates_v1.Journal, label_color_legend\n",
    ")"
   ]
  },
  {
   "cell_type": "markdown",
   "metadata": {},
   "source": [
    "# Extract first author's affiliation country"
   ]
  },
  {
   "cell_type": "code",
   "execution_count": 35,
   "metadata": {},
   "outputs": [],
   "source": [
    "all_countries = [\n",
    "    \"Afghanistan\",\n",
    "    \"Albania\",\n",
    "    \"Algeria\",\n",
    "    \"Andorra\",\n",
    "    \"Angola\",\n",
    "    \"Antigua and Barbuda\",\n",
    "    \"Argentina\",\n",
    "    \"Armenia\",\n",
    "    \"Australia\",\n",
    "    \"Austria\",\n",
    "    \"Azerbaijan\",\n",
    "    \"Bahamas\",\n",
    "    \"Bahrain\",\n",
    "    \"Bangladesh\",\n",
    "    \"Barbados\",\n",
    "    \"Belarus\",\n",
    "    \"Belgium\",\n",
    "    \"Belize\",\n",
    "    \"Benin\",\n",
    "    \"Bhutan\",\n",
    "    \"Bolivia\",\n",
    "    \"Bosnia and Herzegovina\",\n",
    "    \"Botswana\",\n",
    "    \"Brazil\",\n",
    "    \"Brunei\",\n",
    "    \"Bulgaria\",\n",
    "    \"Burkina Faso\",\n",
    "    \"Burundi\",\n",
    "    \"Cabo Verde\",\n",
    "    \"Cambodia\",\n",
    "    \"Cameroon\",\n",
    "    \"Canada\",\n",
    "    \"Central African Republic\",\n",
    "    \"Chad\",\n",
    "    \"Chile\",\n",
    "    \"China\",\n",
    "    \"Colombia\",\n",
    "    \"Comoros\",\n",
    "    \"Democratic Republic of the Congo\",\n",
    "    \"Republic of the Congo\",\n",
    "    \"Costa Rica\",\n",
    "    \"Côte d’Ivoire\",\n",
    "    \"Croatia\",\n",
    "    \"Cuba\",\n",
    "    \"Cyprus\",\n",
    "    \"Czech Republic\",\n",
    "    \"Denmark\",\n",
    "    \"Djibouti\",\n",
    "    \"Dominica\",\n",
    "    \"Dominican Republic\",\n",
    "    \"East Timor\",\n",
    "    \"Ecuador\",\n",
    "    \"Egypt\",\n",
    "    \"El Salvador\",\n",
    "    \"Equatorial Guinea\",\n",
    "    \"Eritrea\",\n",
    "    \"Estonia\",\n",
    "    \"Eswatini\",\n",
    "    \"Ethiopia\",\n",
    "    \"Fiji\",\n",
    "    \"Finland\",\n",
    "    \"France\",\n",
    "    \"Gabon\",\n",
    "    \"Gambia\",\n",
    "    \"Georgia\",\n",
    "    \"Germany\",\n",
    "    \"Ghana\",\n",
    "    \"Greece\",\n",
    "    \"Grenada\",\n",
    "    \"Guatemala\",\n",
    "    \"Guinea\",\n",
    "    \"Guinea-Bissau\",\n",
    "    \"Guyana\",\n",
    "    \"Haiti\",\n",
    "    \"Honduras\",\n",
    "    \"Hungary\",\n",
    "    \"Iceland\",\n",
    "    \"India\",\n",
    "    \"Indonesia\",\n",
    "    \"Iran\",\n",
    "    \"Iraq\",\n",
    "    \"Ireland\",\n",
    "    \"Israel\",\n",
    "    \"Italy\",\n",
    "    \"Jamaica\",\n",
    "    \"Japan\",\n",
    "    \"Jordan\",\n",
    "    \"Kazakhstan\",\n",
    "    \"Kenya\",\n",
    "    \"Kiribati\",\n",
    "    \"North Korea\",\n",
    "    \"South Korea\",\n",
    "    \"Kosovo\",\n",
    "    \"Kuwait\",\n",
    "    \"Kyrgyzstan\",\n",
    "    \"Laos\",\n",
    "    \"Latvia\",\n",
    "    \"Lebanon\",\n",
    "    \"Nicaragua\",\n",
    "    \"Niger\",\n",
    "    \"Nigeria\",\n",
    "    \"North Macedonia\",\n",
    "    \"Norway\",\n",
    "    \"Oman\",\n",
    "    \"Pakistan\",\n",
    "    \"Palau\",\n",
    "    \"Panama\",\n",
    "    \"Papua New Guinea\",\n",
    "    \"Paraguay\",\n",
    "    \"Peru\",\n",
    "    \"Philippines\",\n",
    "    \"Poland\",\n",
    "    \"Portugal\",\n",
    "    \"Qatar\",\n",
    "    \"Romania\",\n",
    "    \"Russia\",\n",
    "    \"Rwanda\",\n",
    "    \"Saint Kitts and Nevis\",\n",
    "    \"Saint Lucia\",\n",
    "    \"Saint Vincent and the Grenadines\",\n",
    "    \"Samoa\",\n",
    "    \"San Marino\",\n",
    "    \"Sao Tome and Principe\",\n",
    "    \"Saudi Arabia\",\n",
    "    \"Senegal\",\n",
    "    \"Serbia\",\n",
    "    \"Seychelles\",\n",
    "    \"Sierra Leone\",\n",
    "    \"Singapore\",\n",
    "    \"Slovakia\",\n",
    "    \"Slovenia\",\n",
    "    \"Solomon Islands\",\n",
    "    \"Somalia\",\n",
    "    \"South Africa\",\n",
    "    \"Spain\",\n",
    "    \"Sri Lanka\",\n",
    "    \"Sudan\",\n",
    "    \"South Sudan\",\n",
    "    \"Suriname\",\n",
    "    \"Sweden\",\n",
    "    \"Switzerland\",\n",
    "    \"Syria\",\n",
    "    \"Taiwan\",\n",
    "    \"Tajikistan\",\n",
    "    \"Tanzania\",\n",
    "    \"Thailand\",\n",
    "    \"Togo\",\n",
    "    \"Tonga\",\n",
    "    \"Trinidad and Tobago\",\n",
    "    \"Tunisia\",\n",
    "    \"Turkey\",\n",
    "    \"Turkmenistan\",\n",
    "    \"Tuvalu\",\n",
    "    \"Uganda\",\n",
    "    \"Ukraine\",\n",
    "    \"United Arab Emirates\",\n",
    "    \"United Kingdom\",\n",
    "    \"United States\",\n",
    "    \"Uruguay\",\n",
    "    \"Uzbekistan\",\n",
    "    \"Vanuatu\",\n",
    "    \"Vatican City\",\n",
    "    \"Venezuela\",\n",
    "    \"Vietnam\",\n",
    "    \"Yemen\",\n",
    "    \"Zambia\",\n",
    "    \"Zimbabwe\",\n",
    "]"
   ]
  },
  {
   "cell_type": "code",
   "execution_count": 36,
   "metadata": {},
   "outputs": [],
   "source": [
    "dict_countries = dict(zip(all_countries, np.arange(1, len(all_countries) + 1)))"
   ]
  },
  {
   "cell_type": "markdown",
   "metadata": {},
   "source": [
    "## Country mapping"
   ]
  },
  {
   "cell_type": "code",
   "execution_count": 37,
   "metadata": {},
   "outputs": [
    {
     "name": "stdout",
     "output_type": "stream",
     "text": [
      "CPU times: user 12min 20s, sys: 6.32 s, total: 12min 27s\n",
      "Wall time: 12min 27s\n"
     ]
    }
   ],
   "source": [
    "%%time\n",
    "countries_first_author_2024_du, _ = mapping_countries(\n",
    "    clean_2024_df_daily_updates_v1.AffiliationFirstAuthor, dict_countries\n",
    ")"
   ]
  },
  {
   "cell_type": "markdown",
   "metadata": {},
   "source": [
    "## State mapping"
   ]
  },
  {
   "cell_type": "code",
   "execution_count": 38,
   "metadata": {},
   "outputs": [],
   "source": [
    "all_states = [\n",
    "    \"Alabama\",\n",
    "    \"Alaska\",\n",
    "    \"Arizona\",\n",
    "    \"Arkansas\",\n",
    "    \"California\",\n",
    "    \"Colorado\",\n",
    "    \"Connecticut\",\n",
    "    \"Delaware\",\n",
    "    \"Florida\",\n",
    "    \"Georgia\",\n",
    "    \"Hawaii\",\n",
    "    \"Idaho\",\n",
    "    \"Illinois\",\n",
    "    \"Indiana\",\n",
    "    \"Iowa\",\n",
    "    \"Kansas\",\n",
    "    \"Kentucky\",\n",
    "    \"Louisiana\",\n",
    "    \"Maine\",\n",
    "    \"Maryland\",\n",
    "    \"Massachusetts\",\n",
    "    \"Michigan\",\n",
    "    \"Minnesota\",\n",
    "    \"Mississippi\",\n",
    "    \"Missouri\",\n",
    "    \"Montana\",\n",
    "    \"Nebraska\",\n",
    "    \"Nevada\",\n",
    "    \"New Hampshire\",\n",
    "    \"New Jersey\",\n",
    "    \"New Mexico\",\n",
    "    \"New York\",\n",
    "    \"North Carolina\",\n",
    "    \"North Dakota\",\n",
    "    \"Ohio\",\n",
    "    \"Oklahoma\",\n",
    "    \"Oregon\",\n",
    "    \"Pennsylvania\",\n",
    "    \"Rhode Island\",\n",
    "    \"South Carolina\",\n",
    "    \"South Dakota\",\n",
    "    \"Tennessee\",\n",
    "    \"Texas\",\n",
    "    \"Utah\",\n",
    "    \"Vermont\",\n",
    "    \"Virginia\",\n",
    "    \"Washington\",\n",
    "    \"West Virginia\",\n",
    "    \"Wisconsin\",\n",
    "    \"Wyoming\",\n",
    "]"
   ]
  },
  {
   "cell_type": "code",
   "execution_count": 39,
   "metadata": {},
   "outputs": [
    {
     "data": {
      "text/plain": [
       "50"
      ]
     },
     "execution_count": 39,
     "metadata": {},
     "output_type": "execute_result"
    }
   ],
   "source": [
    "len(all_states)"
   ]
  },
  {
   "cell_type": "code",
   "execution_count": 43,
   "metadata": {},
   "outputs": [],
   "source": [
    "dict_all_states = dict(zip(all_states, np.arange(1, len(all_states) + 1)))"
   ]
  },
  {
   "cell_type": "code",
   "execution_count": 41,
   "metadata": {},
   "outputs": [
    {
     "name": "stdout",
     "output_type": "stream",
     "text": [
      "CPU times: user 3min 37s, sys: 1.87 s, total: 3min 39s\n",
      "Wall time: 3min 39s\n"
     ]
    }
   ],
   "source": [
    "%%time\n",
    "labels_usa_states_first_author_2024_du, _ = mapping_states(\n",
    "    clean_2024_df_daily_updates_v1.AffiliationFirstAuthor, dict_all_states\n",
    ")"
   ]
  },
  {
   "cell_type": "markdown",
   "metadata": {},
   "source": [
    "### Correct USA country with states"
   ]
  },
  {
   "cell_type": "code",
   "execution_count": 46,
   "metadata": {},
   "outputs": [],
   "source": [
    "countries_first_author_2024_usa_corrected = np.where(\n",
    "    labels_usa_states_first_author_2024_du != \"unknown\",\n",
    "    \"United States\",\n",
    "    countries_first_author_2024_du,\n",
    ")"
   ]
  },
  {
   "cell_type": "code",
   "execution_count": 48,
   "metadata": {},
   "outputs": [
    {
     "name": "stdout",
     "output_type": "stream",
     "text": [
      "Percentage of US papers before correcting 21.641887584690224\n",
      "Percentage of US papers after correcting 26.0119575500738\n"
     ]
    }
   ],
   "source": [
    "print(\n",
    "    \"Percentage of US papers before correcting\",\n",
    "    np.sum(countries_first_author_2024_du == \"United States\")\n",
    "    / countries_first_author_2024_du.shape[0]\n",
    "    * 100,\n",
    ")\n",
    "print(\n",
    "    \"Percentage of US papers after correcting\",\n",
    "    np.sum(countries_first_author_2024_usa_corrected == \"United States\")\n",
    "    / countries_first_author_2024_du.shape[0]\n",
    "    * 100,\n",
    ")"
   ]
  },
  {
   "cell_type": "markdown",
   "metadata": {},
   "source": [
    "# Save df"
   ]
  },
  {
   "cell_type": "markdown",
   "metadata": {},
   "source": [
    "\n",
    "- PMID\n",
    "- abstract\n",
    "- journal\n",
    "- publication year (update also preprocess-and-count bc the year is being extracted there)\n",
    "- label\n",
    "- affiliation country (from the first affiliation of the first author).\n",
    "\n",
    "Also eliminate duplicates PMIDs `df = df.groupby(['PMID']).last()`"
   ]
  },
  {
   "cell_type": "code",
   "execution_count": 49,
   "metadata": {},
   "outputs": [],
   "source": [
    "df = clean_2024_df_daily_updates_v1[\n",
    "    [\"PMID\", \"AbstractText\", \"Journal\", \"Date\"]\n",
    "].copy(deep=True)"
   ]
  },
  {
   "cell_type": "code",
   "execution_count": 50,
   "metadata": {},
   "outputs": [],
   "source": [
    "df[\"Year\"] = df.Date.str.extract(\"([12]\\d\\d\\d)\").values.astype(int)\n"
   ]
  },
  {
   "cell_type": "code",
   "execution_count": 53,
   "metadata": {},
   "outputs": [
    {
     "data": {
      "text/plain": [
       "1           1975 Nov 01\n",
       "6              1975 Dec\n",
       "9              1975 Dec\n",
       "11          1977 May 11\n",
       "12             1977 Feb\n",
       "               ...     \n",
       "2925347     2024 Apr 18\n",
       "2925348    2024 Jan-Dec\n",
       "2925350     2024 Apr 18\n",
       "2925351     2024 Apr 18\n",
       "2925352     2024 Apr 18\n",
       "Name: Date, Length: 2566412, dtype: object"
      ]
     },
     "execution_count": 53,
     "metadata": {},
     "output_type": "execute_result"
    }
   ],
   "source": [
    "df.pop(\"Date\")"
   ]
  },
  {
   "cell_type": "code",
   "execution_count": 55,
   "metadata": {},
   "outputs": [],
   "source": [
    "df[\"Labels\"] = labels_2024_du"
   ]
  },
  {
   "cell_type": "code",
   "execution_count": 56,
   "metadata": {},
   "outputs": [],
   "source": [
    "df[\"Countries\"] = countries_first_author_2024_usa_corrected"
   ]
  },
  {
   "cell_type": "code",
   "execution_count": 57,
   "metadata": {},
   "outputs": [
    {
     "data": {
      "text/html": [
       "<div>\n",
       "<style scoped>\n",
       "    .dataframe tbody tr th:only-of-type {\n",
       "        vertical-align: middle;\n",
       "    }\n",
       "\n",
       "    .dataframe tbody tr th {\n",
       "        vertical-align: top;\n",
       "    }\n",
       "\n",
       "    .dataframe thead th {\n",
       "        text-align: right;\n",
       "    }\n",
       "</style>\n",
       "<table border=\"1\" class=\"dataframe\">\n",
       "  <thead>\n",
       "    <tr style=\"text-align: right;\">\n",
       "      <th></th>\n",
       "      <th>PMID</th>\n",
       "      <th>AbstractText</th>\n",
       "      <th>Journal</th>\n",
       "      <th>Year</th>\n",
       "      <th>Labels</th>\n",
       "      <th>Countries</th>\n",
       "    </tr>\n",
       "  </thead>\n",
       "  <tbody>\n",
       "    <tr>\n",
       "      <th>1</th>\n",
       "      <td>1250</td>\n",
       "      <td>Two isoenzymes of an NADP+ -dependent cinnamyl...</td>\n",
       "      <td>European journal of biochemistry</td>\n",
       "      <td>1975</td>\n",
       "      <td>biochemistry</td>\n",
       "      <td>unknown</td>\n",
       "    </tr>\n",
       "    <tr>\n",
       "      <th>6</th>\n",
       "      <td>1467</td>\n",
       "      <td>Aphids transmitted poly-L-ornithine (PLO)-trea...</td>\n",
       "      <td>The Journal of general virology</td>\n",
       "      <td>1975</td>\n",
       "      <td>virology</td>\n",
       "      <td>unknown</td>\n",
       "    </tr>\n",
       "    <tr>\n",
       "      <th>9</th>\n",
       "      <td>1547</td>\n",
       "      <td>The weakly acidic fraction (WAF) of cigarette ...</td>\n",
       "      <td>Journal of the National Cancer Institute</td>\n",
       "      <td>1975</td>\n",
       "      <td>cancer</td>\n",
       "      <td>unknown</td>\n",
       "    </tr>\n",
       "    <tr>\n",
       "      <th>11</th>\n",
       "      <td>15593</td>\n",
       "      <td>Three sites of silicomolybdate reduction in th...</td>\n",
       "      <td>Biochimica et biophysica acta</td>\n",
       "      <td>1977</td>\n",
       "      <td>unlabeled</td>\n",
       "      <td>unknown</td>\n",
       "    </tr>\n",
       "    <tr>\n",
       "      <th>12</th>\n",
       "      <td>14954</td>\n",
       "      <td>1. A stable ATPase [EC 3.6.1.3] complex (TF0-F...</td>\n",
       "      <td>Journal of biochemistry</td>\n",
       "      <td>1977</td>\n",
       "      <td>biochemistry</td>\n",
       "      <td>unknown</td>\n",
       "    </tr>\n",
       "  </tbody>\n",
       "</table>\n",
       "</div>"
      ],
      "text/plain": [
       "     PMID                                       AbstractText  \\\n",
       "1    1250  Two isoenzymes of an NADP+ -dependent cinnamyl...   \n",
       "6    1467  Aphids transmitted poly-L-ornithine (PLO)-trea...   \n",
       "9    1547  The weakly acidic fraction (WAF) of cigarette ...   \n",
       "11  15593  Three sites of silicomolybdate reduction in th...   \n",
       "12  14954  1. A stable ATPase [EC 3.6.1.3] complex (TF0-F...   \n",
       "\n",
       "                                     Journal  Year        Labels Countries  \n",
       "1           European journal of biochemistry  1975  biochemistry   unknown  \n",
       "6            The Journal of general virology  1975      virology   unknown  \n",
       "9   Journal of the National Cancer Institute  1975        cancer   unknown  \n",
       "11             Biochimica et biophysica acta  1977     unlabeled   unknown  \n",
       "12                   Journal of biochemistry  1977  biochemistry   unknown  "
      ]
     },
     "execution_count": 57,
     "metadata": {},
     "output_type": "execute_result"
    }
   ],
   "source": [
    "df.head()"
   ]
  },
  {
   "cell_type": "code",
   "execution_count": 58,
   "metadata": {},
   "outputs": [
    {
     "data": {
      "text/plain": [
       "2566412"
      ]
     },
     "execution_count": 58,
     "metadata": {},
     "output_type": "execute_result"
    }
   ],
   "source": [
    "len(df)"
   ]
  },
  {
   "cell_type": "code",
   "execution_count": 59,
   "metadata": {},
   "outputs": [],
   "source": [
    "df = df.groupby([\"PMID\"]).last()"
   ]
  },
  {
   "cell_type": "code",
   "execution_count": 60,
   "metadata": {},
   "outputs": [
    {
     "data": {
      "text/plain": [
       "1524848"
      ]
     },
     "execution_count": 60,
     "metadata": {},
     "output_type": "execute_result"
    }
   ],
   "source": [
    "len(df)"
   ]
  },
  {
   "cell_type": "code",
   "execution_count": 62,
   "metadata": {},
   "outputs": [
    {
     "name": "stdout",
     "output_type": "stream",
     "text": [
      "CPU times: user 2min 52s, sys: 3.18 s, total: 2min 55s\n",
      "Wall time: 2min 55s\n"
     ]
    }
   ],
   "source": [
    "%%time\n",
    "compression_opts = dict(\n",
    "    method=\"zip\", archive_name=\"pubmed_daily_updates_2024_v1.csv\"\n",
    ")\n",
    "\n",
    "df.to_csv(\n",
    "    \"/gpfs01/berens/user/rgonzalesmarquez/phd/chatgpt-excess-words/data/pubmed_daily_updates_2024_v1.zip\",\n",
    "    index=False,\n",
    "    compression=compression_opts,\n",
    ")"
   ]
  },
  {
   "cell_type": "markdown",
   "metadata": {},
   "source": [
    "From 2024 zenodo version, \n",
    "drop: \"x\", \"y\", \"Colors\", \"Retractions\", \"Country colors\"\n",
    "add (to 2024 baseline and daily updates): genders first and last authors, have to be imported as separate arrays () "
   ]
  }
 ],
 "metadata": {
  "kernelspec": {
   "display_name": "Python 3 (ipykernel)",
   "language": "python",
   "name": "python3"
  },
  "language_info": {
   "codemirror_mode": {
    "name": "ipython",
    "version": 3
   },
   "file_extension": ".py",
   "mimetype": "text/x-python",
   "name": "python",
   "nbconvert_exporter": "python",
   "pygments_lexer": "ipython3",
   "version": "3.11.5"
  }
 },
 "nbformat": 4,
 "nbformat_minor": 4
}
